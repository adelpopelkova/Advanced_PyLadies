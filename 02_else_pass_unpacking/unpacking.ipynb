{
 "cells": [
  {
   "cell_type": "markdown",
   "metadata": {},
   "source": [
    "# Rozbalování sekvencí"
   ]
  },
  {
   "cell_type": "markdown",
   "metadata": {},
   "source": [
    "Rozbalování sekvencí se nám hodí vždy, když potřebujeme vytáhnout jednotlivé prvky z nějaké sekvence a tyto vložit do několika samostatných proměnných. Pod pojmem sekvence si lze představit jakoukoli množinu prvků, přes kterou je možné iterovat cyklem `for`.\n",
    "\n",
    "Úplně nejzákladnější použití rozbalování demonstrují následující příklady:"
   ]
  },
  {
   "cell_type": "markdown",
   "metadata": {},
   "source": [
    "#### Seznam"
   ]
  },
  {
   "cell_type": "code",
   "execution_count": 9,
   "metadata": {},
   "outputs": [
    {
     "name": "stdout",
     "output_type": "stream",
     "text": [
      "áčko obsahuje 1 a béčko obsahuje 2\n"
     ]
    }
   ],
   "source": [
    "a, b = [1, 2]\n",
    "print('áčko obsahuje {} a béčko obsahuje {}'.format(a, b))"
   ]
  },
  {
   "cell_type": "markdown",
   "metadata": {},
   "source": [
    "#### Řetězec"
   ]
  },
  {
   "cell_type": "code",
   "execution_count": 11,
   "metadata": {},
   "outputs": [
    {
     "name": "stdout",
     "output_type": "stream",
     "text": [
      "áčko obsahuje X a béčko obsahuje Y\n"
     ]
    }
   ],
   "source": [
    "a, b = 'XY'\n",
    "print('áčko obsahuje {} a béčko obsahuje {}'.format(a, b))"
   ]
  },
  {
   "cell_type": "markdown",
   "metadata": {},
   "source": [
    "#### N-tice"
   ]
  },
  {
   "cell_type": "code",
   "execution_count": 12,
   "metadata": {},
   "outputs": [
    {
     "name": "stdout",
     "output_type": "stream",
     "text": [
      "áčko obsahuje P a béčko obsahuje Q\n"
     ]
    }
   ],
   "source": [
    "a, b = ('P', 'Q')\n",
    "print('áčko obsahuje {} a béčko obsahuje {}'.format(a, b))"
   ]
  },
  {
   "cell_type": "markdown",
   "metadata": {},
   "source": [
    "#### Slovník"
   ]
  },
  {
   "cell_type": "code",
   "execution_count": 13,
   "metadata": {},
   "outputs": [
    {
     "name": "stdout",
     "output_type": "stream",
     "text": [
      "áčko obsahuje klic1 a béčko obsahuje klic2\n"
     ]
    }
   ],
   "source": [
    "a, b = {'klic1': 1, 'klic2': 2}\n",
    "print('áčko obsahuje {} a béčko obsahuje {}'.format(a, b))"
   ]
  },
  {
   "cell_type": "markdown",
   "metadata": {},
   "source": [
    "Přiřazovat můžeme samozřejmě i do více než dvou proměnných - například sekvenci `range`, která nám vygeneruje tři čísla."
   ]
  },
  {
   "cell_type": "code",
   "execution_count": 15,
   "metadata": {},
   "outputs": [
    {
     "name": "stdout",
     "output_type": "stream",
     "text": [
      "áčko obsahuje 5, béčko obsahuje 7 a céčko obsahuje 9\n"
     ]
    }
   ],
   "source": [
    "a, b, c = range(5, 10, 2)\n",
    "print('áčko obsahuje {}, béčko obsahuje {} a céčko obsahuje {}'.format(a, b, c))"
   ]
  },
  {
   "cell_type": "markdown",
   "metadata": {},
   "source": [
    "Pokud je struktura dat pro rozbalení složitější, je možné si při rozbalování pomoci zápisem podobné struktury na levé straně přiřazení."
   ]
  },
  {
   "cell_type": "code",
   "execution_count": 16,
   "metadata": {},
   "outputs": [
    {
     "name": "stdout",
     "output_type": "stream",
     "text": [
      "áčko obsahuje X, béčko obsahuje Y a céčko obsahuje Z\n"
     ]
    }
   ],
   "source": [
    "(a, b), c = \"XY\", \"Z\"\n",
    "print('áčko obsahuje {}, béčko obsahuje {} a céčko obsahuje {}'.format(a, b, c))"
   ]
  },
  {
   "cell_type": "code",
   "execution_count": 17,
   "metadata": {},
   "outputs": [
    {
     "name": "stdout",
     "output_type": "stream",
     "text": [
      "áčko obsahuje 1, béčko obsahuje 2 a céčko obsahuje slovo\n"
     ]
    }
   ],
   "source": [
    "(a, b), c, = [1, 2], 'slovo'\n",
    "print('áčko obsahuje {}, béčko obsahuje {} a céčko obsahuje {}'.format(a, b, c))"
   ]
  },
  {
   "cell_type": "markdown",
   "metadata": {},
   "source": [
    "To by k obyčejnému rozbalování mohlo jako příklad stačit. Pojďme se podívat na daleko mocnější rozšířené rozbalování."
   ]
  },
  {
   "cell_type": "markdown",
   "metadata": {},
   "source": [
    "## Rozšířené rozbalování"
   ]
  },
  {
   "cell_type": "markdown",
   "metadata": {},
   "source": [
    "Pomocí hvězdičky (`*`) můžeme při rozbalování sekvence přiřadit do jedné proměnné i více než jeden prvek."
   ]
  },
  {
   "cell_type": "code",
   "execution_count": 18,
   "metadata": {},
   "outputs": [
    {
     "name": "stdout",
     "output_type": "stream",
     "text": [
      "áčko obsahuje 1 a béčko obsahuje [2, 3, 4, 5, 6]\n"
     ]
    }
   ],
   "source": [
    "a, *b = [1, 2, 3, 4, 5, 6]\n",
    "print('áčko obsahuje {} a béčko obsahuje {}'.format(a, b))"
   ]
  },
  {
   "cell_type": "markdown",
   "metadata": {},
   "source": [
    "Hvezdičku lze použít i u první proměnné, takže bude obsahovat všechny prvky od začátku sekvence kromě toho posledního."
   ]
  },
  {
   "cell_type": "code",
   "execution_count": 19,
   "metadata": {},
   "outputs": [
    {
     "name": "stdout",
     "output_type": "stream",
     "text": [
      "áčko obsahuje [1, 2, 3, 4, 5] a béčko obsahuje 6\n"
     ]
    }
   ],
   "source": [
    "*a, b = [1, 2, 3, 4, 5, 6]\n",
    "print('áčko obsahuje {} a béčko obsahuje {}'.format(a, b))"
   ]
  },
  {
   "cell_type": "markdown",
   "metadata": {},
   "source": [
    "Stejně můžeme postupovat i u více než dvou proměnných."
   ]
  },
  {
   "cell_type": "code",
   "execution_count": 20,
   "metadata": {},
   "outputs": [
    {
     "name": "stdout",
     "output_type": "stream",
     "text": [
      "áčko obsahuje 1, béčko obsahuje [2, 3, 4, 5] a céčko obsahuje 6\n"
     ]
    }
   ],
   "source": [
    "a, *b, c = [1, 2, 3, 4, 5, 6]\n",
    "print('áčko obsahuje {}, béčko obsahuje {} a céčko obsahuje {}'.format(a, b, c))"
   ]
  },
  {
   "cell_type": "code",
   "execution_count": 21,
   "metadata": {},
   "outputs": [
    {
     "name": "stdout",
     "output_type": "stream",
     "text": [
      "áčko obsahuje [1, 2, 3, 4], béčko obsahuje 5 a céčko obsahuje 6\n"
     ]
    }
   ],
   "source": [
    "*a, b, c = [1, 2, 3, 4, 5, 6]\n",
    "print('áčko obsahuje {}, béčko obsahuje {} a céčko obsahuje {}'.format(a, b, c))"
   ]
  },
  {
   "cell_type": "markdown",
   "metadata": {},
   "source": [
    "Proměnná s hvězdičkou může být u rozbalování vždy jen jedna. Pokud bychom jich použili několik, nebylo by jasné, kolik položek by se mělo do každé z nich přiřadit."
   ]
  },
  {
   "cell_type": "code",
   "execution_count": 12,
   "metadata": {},
   "outputs": [
    {
     "ename": "SyntaxError",
     "evalue": "two starred expressions in assignment (<ipython-input-12-5782ac99120d>, line 1)",
     "output_type": "error",
     "traceback": [
      "\u001b[0;36m  File \u001b[0;32m\"<ipython-input-12-5782ac99120d>\"\u001b[0;36m, line \u001b[0;32m1\u001b[0m\n\u001b[0;31m    *a, *b, c = [1, 2, 3, 4, 5, 6]\u001b[0m\n\u001b[0m                                  ^\u001b[0m\n\u001b[0;31mSyntaxError\u001b[0m\u001b[0;31m:\u001b[0m two starred expressions in assignment\n"
     ]
    }
   ],
   "source": [
    "*a, *b, c = [1, 2, 3, 4, 5, 6]"
   ]
  },
  {
   "cell_type": "markdown",
   "metadata": {},
   "source": [
    "Pokud rozbalovaná sekvence nebude obsahovat dostatek prvků, může proměnná s hvězdičkou ve výsledku obsahovat i prázdný seznam."
   ]
  },
  {
   "cell_type": "code",
   "execution_count": 13,
   "metadata": {},
   "outputs": [
    {
     "name": "stdout",
     "output_type": "stream",
     "text": [
      "áčko obsahuje 1, béčko obsahuje [] a céčko obsahuje 2\n"
     ]
    }
   ],
   "source": [
    "a, *b, c = [1, 2]\n",
    "print('áčko obsahuje {}, béčko obsahuje {} a céčko obsahuje {}'.format(a, b, c))"
   ]
  },
  {
   "cell_type": "markdown",
   "metadata": {},
   "source": [
    "Podobně jako u jednoduchého rozbalování si i zde můžeme pomoci strukturováním proměnných na levé straně přiřazení.\n",
    "\n",
    "Vždy je ale třeba mít na paměti, že kód by měl být čitelný také pro ostatní programátory, takže může být lepší se složitějším zápisům raději vyhnout."
   ]
  },
  {
   "cell_type": "code",
   "execution_count": 26,
   "metadata": {},
   "outputs": [
    {
     "name": "stdout",
     "output_type": "stream",
     "text": [
      "áčko obsahuje X, béčko obsahuje Y a céčko obsahuje [2, 3]\n"
     ]
    }
   ],
   "source": [
    "(a, b), *c = 'XY', 2, 3\n",
    "print('áčko obsahuje {}, béčko obsahuje {} a céčko obsahuje {}'.format(a, b, c))"
   ]
  },
  {
   "cell_type": "code",
   "execution_count": 25,
   "metadata": {},
   "outputs": [
    {
     "name": "stdout",
     "output_type": "stream",
     "text": [
      "áčko obsahuje 1, béčko obsahuje 2, céčko obsahuje slovo a déčko obsahuje []\n"
     ]
    }
   ],
   "source": [
    "(a, b), c, *d = [1, 2], 'slovo'\n",
    "print('áčko obsahuje {}, béčko obsahuje {}, céčko obsahuje {} a déčko obsahuje {}'.format(a, b, c, d))"
   ]
  },
  {
   "cell_type": "code",
   "execution_count": 24,
   "metadata": {},
   "outputs": [
    {
     "name": "stdout",
     "output_type": "stream",
     "text": [
      "áčko obsahuje 1, béčko obsahuje 2, céčko obsahuje [] a déčko obsahuje slovo\n"
     ]
    }
   ],
   "source": [
    "(a, b), *c, d = [1, 2], 'slovo'\n",
    "print('áčko obsahuje {}, béčko obsahuje {}, céčko obsahuje {} a déčko obsahuje {}'.format(a, b, c, d))"
   ]
  },
  {
   "cell_type": "code",
   "execution_count": 23,
   "metadata": {},
   "outputs": [
    {
     "name": "stdout",
     "output_type": "stream",
     "text": [
      "áčko obsahuje 1, béčko obsahuje 2, céčko obsahuje s a déčko obsahuje ['l', 'o', 'v', 'o']\n"
     ]
    }
   ],
   "source": [
    "(a, b), (c, *d) = [1, 2], 'slovo'\n",
    "print('áčko obsahuje {}, béčko obsahuje {}, céčko obsahuje {} a déčko obsahuje {}'.format(a, b, c, d))"
   ]
  }
 ],
 "metadata": {
  "kernelspec": {
   "display_name": "Python 3",
   "language": "python",
   "name": "python3"
  },
  "language_info": {
   "codemirror_mode": {
    "name": "ipython",
    "version": 3
   },
   "file_extension": ".py",
   "mimetype": "text/x-python",
   "name": "python",
   "nbconvert_exporter": "python",
   "pygments_lexer": "ipython3",
   "version": "3.6.5"
  }
 },
 "nbformat": 4,
 "nbformat_minor": 2
}
