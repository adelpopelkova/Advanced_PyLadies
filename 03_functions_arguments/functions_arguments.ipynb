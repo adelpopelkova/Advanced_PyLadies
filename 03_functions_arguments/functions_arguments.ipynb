{
 "cells": [
  {
   "cell_type": "markdown",
   "metadata": {},
   "source": [
    "# Argumenty funkcí"
   ]
  },
  {
   "cell_type": "markdown",
   "metadata": {},
   "source": [
    "Dnes se společně podíváme na definici a volání funkcí a na různé možnosti práce s argumenty."
   ]
  },
  {
   "cell_type": "markdown",
   "metadata": {},
   "source": [
    "## Funkce bez argumentů"
   ]
  },
  {
   "cell_type": "markdown",
   "metadata": {},
   "source": [
    "Funkce nemusí argumenty vůbec používat. Funkce bez argumentů bývají většinou velmi jednoduché a bez možností ovlivnit jejich chování z vnějšku."
   ]
  },
  {
   "cell_type": "code",
   "execution_count": 42,
   "metadata": {
    "collapsed": true
   },
   "outputs": [],
   "source": [
    "def pozdrav():\n",
    "    \"\"\"Funkce vypíše pozdrav\"\"\"\n",
    "    print(\"Ahoj světe!\")"
   ]
  },
  {
   "cell_type": "markdown",
   "metadata": {},
   "source": [
    "V definici funkce nejsou v závorkách uvedeny žádné argumenty a proto ji ani žádné nepředáváme při jejím volání"
   ]
  },
  {
   "cell_type": "code",
   "execution_count": 43,
   "metadata": {},
   "outputs": [
    {
     "name": "stdout",
     "output_type": "stream",
     "text": [
      "Ahoj světe!\n"
     ]
    }
   ],
   "source": [
    "pozdrav()"
   ]
  },
  {
   "cell_type": "markdown",
   "metadata": {},
   "source": [
    "## Nepojmenované argumenty"
   ]
  },
  {
   "cell_type": "markdown",
   "metadata": {},
   "source": [
    "Většina funkcí však ke své činnosti nějaké argumenty potřebuje. Nejčastěji se jedná o argumenty nepojmenované neboli poziční."
   ]
  },
  {
   "cell_type": "code",
   "execution_count": 44,
   "metadata": {
    "collapsed": true
   },
   "outputs": [],
   "source": [
    "def pozdrav_uzivatele(osloveni, jmeno):\n",
    "    \"\"\"Funce vypíše pozdrav na základě jména a oslovení\"\"\"\n",
    "    print(\"Dobrý den {} {}\".format(osloveni, jmeno.capitalize()))"
   ]
  },
  {
   "cell_type": "markdown",
   "metadata": {},
   "source": [
    "Při volání takové funkce pak musíme pro její správné fungování dodržet pořadí argumentů."
   ]
  },
  {
   "cell_type": "code",
   "execution_count": 45,
   "metadata": {},
   "outputs": [
    {
     "name": "stdout",
     "output_type": "stream",
     "text": [
      "Dobrý den pane Nováku\n"
     ]
    }
   ],
   "source": [
    "pozdrav_uzivatele(\"pane\", \"Nováku\")"
   ]
  },
  {
   "cell_type": "code",
   "execution_count": 46,
   "metadata": {},
   "outputs": [
    {
     "name": "stdout",
     "output_type": "stream",
     "text": [
      "Dobrý den slečno Veroniko\n"
     ]
    }
   ],
   "source": [
    "pozdrav_uzivatele(\"slečno\", \"veroniko\")"
   ]
  },
  {
   "cell_type": "markdown",
   "metadata": {},
   "source": [
    "Pokud ji zavoláme s menším či větším počtem argumentů, nebude fungovat."
   ]
  },
  {
   "cell_type": "code",
   "execution_count": 47,
   "metadata": {},
   "outputs": [
    {
     "ename": "TypeError",
     "evalue": "pozdrav_uzivatele() missing 1 required positional argument: 'jmeno'",
     "output_type": "error",
     "traceback": [
      "\u001b[0;31m---------------------------------------------------------------------------\u001b[0m",
      "\u001b[0;31mTypeError\u001b[0m                                 Traceback (most recent call last)",
      "\u001b[0;32m<ipython-input-47-6c5e4bf5ef3a>\u001b[0m in \u001b[0;36m<module>\u001b[0;34m()\u001b[0m\n\u001b[0;32m----> 1\u001b[0;31m \u001b[0mpozdrav_uzivatele\u001b[0m\u001b[0;34m(\u001b[0m\u001b[0;34m\"veroniko\"\u001b[0m\u001b[0;34m)\u001b[0m\u001b[0;34m\u001b[0m\u001b[0m\n\u001b[0m",
      "\u001b[0;31mTypeError\u001b[0m: pozdrav_uzivatele() missing 1 required positional argument: 'jmeno'"
     ]
    }
   ],
   "source": [
    "pozdrav_uzivatele(\"veroniko\")"
   ]
  },
  {
   "cell_type": "code",
   "execution_count": 48,
   "metadata": {},
   "outputs": [
    {
     "ename": "TypeError",
     "evalue": "pozdrav_uzivatele() takes 2 positional arguments but 3 were given",
     "output_type": "error",
     "traceback": [
      "\u001b[0;31m---------------------------------------------------------------------------\u001b[0m",
      "\u001b[0;31mTypeError\u001b[0m                                 Traceback (most recent call last)",
      "\u001b[0;32m<ipython-input-48-8bc9b0d8b688>\u001b[0m in \u001b[0;36m<module>\u001b[0;34m()\u001b[0m\n\u001b[0;32m----> 1\u001b[0;31m \u001b[0mpozdrav_uzivatele\u001b[0m\u001b[0;34m(\u001b[0m\u001b[0;34m\"vážená\"\u001b[0m\u001b[0;34m,\u001b[0m \u001b[0;34m\"paní\"\u001b[0m\u001b[0;34m,\u001b[0m \u001b[0;34m\"veroniko\"\u001b[0m\u001b[0;34m)\u001b[0m\u001b[0;34m\u001b[0m\u001b[0m\n\u001b[0m",
      "\u001b[0;31mTypeError\u001b[0m: pozdrav_uzivatele() takes 2 positional arguments but 3 were given"
     ]
    }
   ],
   "source": [
    "pozdrav_uzivatele(\"vážená\", \"paní\", \"veroniko\")"
   ]
  },
  {
   "cell_type": "markdown",
   "metadata": {},
   "source": [
    "## Pojmenované argumenty"
   ]
  },
  {
   "cell_type": "markdown",
   "metadata": {},
   "source": [
    "Když budeme chtít změnit pořadí argumentů při volání funkce, můžeme použít jejich pojmenovanou variantu.\n",
    "\n",
    "Na definici funkce se nic nezmění."
   ]
  },
  {
   "cell_type": "code",
   "execution_count": 49,
   "metadata": {
    "collapsed": true
   },
   "outputs": [],
   "source": [
    "def pozdrav_uzivatele(osloveni, jmeno):\n",
    "    \"\"\"Funce vypíše pozdrav na základě jména a oslovení\"\"\"\n",
    "    print(\"Dobrý den {} {}\".format(osloveni, jmeno.capitalize()))"
   ]
  },
  {
   "cell_type": "markdown",
   "metadata": {},
   "source": [
    "Při volání funkce můžeme jednotlivé argumenty pojmenovat a tím jednoznačně přiřadit hodnoty k definovaným názvům bez nutnosti spoléhat na jejich pořadí. V mnoha případech se pojmenované argumenty používají i pro lepší přehlednost."
   ]
  },
  {
   "cell_type": "code",
   "execution_count": 50,
   "metadata": {
    "scrolled": true
   },
   "outputs": [
    {
     "name": "stdout",
     "output_type": "stream",
     "text": [
      "Dobrý den příteli Karle\n"
     ]
    }
   ],
   "source": [
    "pozdrav_uzivatele(jmeno=\"Karle\", osloveni=\"příteli\")"
   ]
  },
  {
   "cell_type": "markdown",
   "metadata": {},
   "source": [
    "## Argumenty s výchozí hodnotou"
   ]
  },
  {
   "cell_type": "markdown",
   "metadata": {},
   "source": [
    "U některých funkcí může být přínosné mít možnost některé argumenty při volání funkce úplně vynechat a místo hodnoty předané při volání použít hodnotu výchozí, kterou určíme v rámci definice funkce.\n",
    "\n",
    "Jelikož můžeme argumenty s výchozí hodnotou při volání funkce vynechat, musíme je při definici funkce dát až jako poslední, abychom zbývající argumenty mohli stále používat jako poziční.\n",
    "\n",
    "Jako příklad upravíme naši funkci `pozdrav_uzivatele`, která bere poziční argumenty `osloveni` a `jmeno`, a přidáme argument s výchozí hodnotou indikující zda má být pozdrav formální nebo ne."
   ]
  },
  {
   "cell_type": "code",
   "execution_count": 51,
   "metadata": {
    "collapsed": true
   },
   "outputs": [],
   "source": [
    "def pozdrav_uzivatele(osloveni, jmeno, formalni=True):\n",
    "    \"\"\"Funce vypíše formální nebo neformální pozdrav na základě jména a oslovení\"\"\"\n",
    "    if formalni:\n",
    "        print(\"Dobrý den {} {}\".format(osloveni, jmeno.capitalize()))\n",
    "    else:\n",
    "        print(\"Ahoj {} {}\".format(osloveni, jmeno.capitalize()))"
   ]
  },
  {
   "cell_type": "markdown",
   "metadata": {},
   "source": [
    "Pokud nestanovíme jinak, použije se pro argument `formalni` výchozí hodnota a slečna Veronika bude tedy pozdravena formálně."
   ]
  },
  {
   "cell_type": "code",
   "execution_count": 52,
   "metadata": {
    "scrolled": true
   },
   "outputs": [
    {
     "name": "stdout",
     "output_type": "stream",
     "text": [
      "Dobrý den slečno Veroniko\n"
     ]
    }
   ],
   "source": [
    "pozdrav_uzivatele(\"slečno\", \"veroniko\")"
   ]
  },
  {
   "cell_type": "markdown",
   "metadata": {},
   "source": [
    "V případě potřeby můžeme ale nastavit argument `formalni` na jinou hodnotu, stejně jako jakýkoliv jiný argument."
   ]
  },
  {
   "cell_type": "code",
   "execution_count": 53,
   "metadata": {},
   "outputs": [
    {
     "name": "stdout",
     "output_type": "stream",
     "text": [
      "Ahoj milej Tondo\n"
     ]
    }
   ],
   "source": [
    "pozdrav_uzivatele(\"milej\", \"tondo\", False)"
   ]
  },
  {
   "cell_type": "markdown",
   "metadata": {},
   "source": [
    "I s pomocí pojmenovaných argumentů."
   ]
  },
  {
   "cell_type": "code",
   "execution_count": 67,
   "metadata": {},
   "outputs": [
    {
     "name": "stdout",
     "output_type": "stream",
     "text": [
      "Ahoj milej Tondo\n"
     ]
    }
   ],
   "source": [
    "pozdrav_uzivatele(jmeno=\"tondo\", osloveni=\"milej\", formalni=False)"
   ]
  },
  {
   "cell_type": "markdown",
   "metadata": {},
   "source": [
    "## Proměnný počet argumentů"
   ]
  },
  {
   "cell_type": "markdown",
   "metadata": {},
   "source": [
    "Funkce `print` je oblíbeným příkladem toho, že některé funkce neznají počet argumentů předem a je tedy třeba je definovat tak, aby si uměly poradit s proměnným počtem argumentů. K tomu nám poslouží hvězdička (`*`), se kterou jsme se seznámili v minulé lekci při rozbalování sekvencí.\n",
    "\n",
    "Všechny argumenty, které jsou funkci předány při jejím volání, jsou dostupné jako n-tice uvnitř funkce a dají se tedy mimo jiné například projít pomocí cyklu `for`."
   ]
  },
  {
   "cell_type": "code",
   "execution_count": 55,
   "metadata": {
    "collapsed": true
   },
   "outputs": [],
   "source": [
    "def suma_cisel(*cisla):\n",
    "    suma = 0\n",
    "    for cislo in cisla:\n",
    "        suma += cislo\n",
    "    return suma"
   ]
  },
  {
   "cell_type": "markdown",
   "metadata": {},
   "source": [
    "Funkci takto definovanou pak můžeme volat s jakýmkoli množstvím argumentů"
   ]
  },
  {
   "cell_type": "code",
   "execution_count": 56,
   "metadata": {},
   "outputs": [
    {
     "data": {
      "text/plain": [
       "100"
      ]
     },
     "execution_count": 56,
     "metadata": {},
     "output_type": "execute_result"
    }
   ],
   "source": [
    "suma_cisel(10, 20, 30, 40)"
   ]
  },
  {
   "cell_type": "code",
   "execution_count": 57,
   "metadata": {},
   "outputs": [
    {
     "data": {
      "text/plain": [
       "10"
      ]
     },
     "execution_count": 57,
     "metadata": {},
     "output_type": "execute_result"
    }
   ],
   "source": [
    "suma_cisel(10)"
   ]
  },
  {
   "cell_type": "markdown",
   "metadata": {},
   "source": [
    "Nebo třeba i bez argumentu, pokud se s tím funkce umí vypořádat."
   ]
  },
  {
   "cell_type": "code",
   "execution_count": 58,
   "metadata": {},
   "outputs": [
    {
     "data": {
      "text/plain": [
       "0"
      ]
     },
     "execution_count": 58,
     "metadata": {},
     "output_type": "execute_result"
    }
   ],
   "source": [
    "suma_cisel()"
   ]
  },
  {
   "cell_type": "markdown",
   "metadata": {},
   "source": [
    "V podobném duchu je možné funkci připravit i pro proměnný počet pojmenovaných argumentů. Rozdíly jsou tu jen dva: v definici funkce se místo jedné hvězdičky pužijí dvě a předané argumenty jsou pak uvnitř funkce dostupné jako slovník."
   ]
  },
  {
   "cell_type": "code",
   "execution_count": 59,
   "metadata": {
    "collapsed": true
   },
   "outputs": [],
   "source": [
    "def vypis_skore(**skore):\n",
    "    for klic, hodnota in skore.items():\n",
    "        print(\"Hráč {} nahrál {} bodů\".format(klic.capitalize(), hodnota))"
   ]
  },
  {
   "cell_type": "code",
   "execution_count": 60,
   "metadata": {},
   "outputs": [
    {
     "name": "stdout",
     "output_type": "stream",
     "text": [
      "Hráč Pepa nahrál 30 bodů\n",
      "Hráč Karel nahrál 40 bodů\n",
      "Hráč Libor nahrál 20 bodů\n"
     ]
    }
   ],
   "source": [
    "vypis_skore(pepa=30, karel=40, libor=20)"
   ]
  },
  {
   "cell_type": "markdown",
   "metadata": {},
   "source": [
    "## Příklady"
   ]
  },
  {
   "cell_type": "markdown",
   "metadata": {},
   "source": [
    "Všechny výše zmíněné možnosti definice funkcí je možné mezi sebou více či méně kombinovat. Pojďme jako příklady použít funkce, které již notoricky známe."
   ]
  },
  {
   "cell_type": "markdown",
   "metadata": {},
   "source": [
    "#### `print`"
   ]
  },
  {
   "cell_type": "markdown",
   "metadata": {},
   "source": [
    "```python\n",
    "print(*objects, sep=' ', end='\\n', file=sys.stdout, flush=False)\n",
    "```"
   ]
  },
  {
   "cell_type": "markdown",
   "metadata": {},
   "source": [
    "Na definici zmámé funkce `print` můžeme vidět, že jí můžeme předat proměnný počet argumentů jako `objects` k výpisu a dále několik argumentů s nastavenou výchozí hodnotou.\n",
    "\n",
    "Při volání funkce `print` se pak všechny nepojmenované argumenty předají jako n-tice `objects` a ty pojmenované změní chování funkce `print`."
   ]
  },
  {
   "cell_type": "markdown",
   "metadata": {},
   "source": [
    "#### `enumerate`"
   ]
  },
  {
   "cell_type": "markdown",
   "metadata": {},
   "source": [
    "```python\n",
    "enumerate(iterable, start=0)\n",
    "```"
   ]
  },
  {
   "cell_type": "markdown",
   "metadata": {},
   "source": [
    "Funkce enumerate nám umí očíslovat iterovatelný objekt, takže například v cyklu `for` můžeme mít k dispozici nejen jednotlivé prvky z iterovatelného objektu, ale i číslo označující jejich pozici.\n",
    "\n",
    "V definici je jeden poziční argument, který je pro fungování funkce vyžadován a pak jeden s výchozí hodnotou, který můžeme vynechat a tím nechat funkci počítat čísla pozic jednotlivých prvků od nuly."
   ]
  },
  {
   "cell_type": "code",
   "execution_count": 61,
   "metadata": {},
   "outputs": [
    {
     "name": "stdout",
     "output_type": "stream",
     "text": [
      "Na pozici 0 je hráč Karel\n",
      "Na pozici 1 je hráč Pepa\n",
      "Na pozici 2 je hráč Libor\n",
      "Na pozici 3 je hráč Jarek\n"
     ]
    }
   ],
   "source": [
    "hraci = [\"Karel\", \"Pepa\", \"Libor\", \"Jarek\"]\n",
    "\n",
    "for pozice, hrac in enumerate(hraci):\n",
    "    print(\"Na pozici {} je hráč {}\".format(pozice, hrac))"
   ]
  },
  {
   "cell_type": "code",
   "execution_count": 62,
   "metadata": {},
   "outputs": [
    {
     "name": "stdout",
     "output_type": "stream",
     "text": [
      "Na pozici 5 je hráč Karel\n",
      "Na pozici 6 je hráč Pepa\n",
      "Na pozici 7 je hráč Libor\n",
      "Na pozici 8 je hráč Jarek\n"
     ]
    }
   ],
   "source": [
    "hraci = [\"Karel\", \"Pepa\", \"Libor\", \"Jarek\"]\n",
    "\n",
    "for pozice, hrac in enumerate(hraci, start=5):\n",
    "    print(\"Na pozici {} je hráč {}\".format(pozice, hrac))"
   ]
  },
  {
   "cell_type": "markdown",
   "metadata": {},
   "source": [
    "#### `zip`"
   ]
  },
  {
   "cell_type": "markdown",
   "metadata": {},
   "source": [
    "```python\n",
    "zip(*iterables)\n",
    "```"
   ]
  },
  {
   "cell_type": "markdown",
   "metadata": {},
   "source": [
    "Užitečná funkce `zip` nám dokáže zkombinovat několik iterovatelných objektů do n-tic tak, že každá n-tice obsahuje prvky na stejných pozicích z iterovatelných objektů.\n",
    "\n",
    "Protože je definována s proměnným počtem argumentů, poradí si s jakýmkoli množstvím zadaných iterovatelných objektů."
   ]
  },
  {
   "cell_type": "code",
   "execution_count": 63,
   "metadata": {},
   "outputs": [
    {
     "data": {
      "text/plain": [
       "[('s',), ('l',), ('o',), ('v',), ('o',)]"
      ]
     },
     "execution_count": 63,
     "metadata": {},
     "output_type": "execute_result"
    }
   ],
   "source": [
    "slovo = \"slovo\"\n",
    "cisla = [5, 4, 3, 2, 1]\n",
    "ntice_slov = (\"louka\", \"paseka\", \"mitina\", \"vesnice\", \"mesto\")\n",
    "kratsi_cisla = [1, 2, 3]\n",
    "\n",
    "list(zip(slovo))"
   ]
  },
  {
   "cell_type": "markdown",
   "metadata": {},
   "source": [
    "Volat funci `zip` s jedním argumentem moc nedává smysl, ale možné to je."
   ]
  },
  {
   "cell_type": "code",
   "execution_count": 64,
   "metadata": {},
   "outputs": [
    {
     "data": {
      "text/plain": [
       "[('s', 5), ('l', 4), ('o', 3), ('v', 2), ('o', 1)]"
      ]
     },
     "execution_count": 64,
     "metadata": {},
     "output_type": "execute_result"
    }
   ],
   "source": [
    "list(zip(slovo, cisla))"
   ]
  },
  {
   "cell_type": "markdown",
   "metadata": {},
   "source": [
    "Se dvěma argumenty už dostáváme jejich kombinace v n-ticích."
   ]
  },
  {
   "cell_type": "code",
   "execution_count": 65,
   "metadata": {},
   "outputs": [
    {
     "data": {
      "text/plain": [
       "[(5, 's', 'louka'),\n",
       " (4, 'l', 'paseka'),\n",
       " (3, 'o', 'mitina'),\n",
       " (2, 'v', 'vesnice'),\n",
       " (1, 'o', 'mesto')]"
      ]
     },
     "execution_count": 65,
     "metadata": {},
     "output_type": "execute_result"
    }
   ],
   "source": [
    "list(zip(cisla, slovo, ntice_slov))"
   ]
  },
  {
   "cell_type": "markdown",
   "metadata": {},
   "source": [
    "A se třeti to funguje úplně stejně."
   ]
  },
  {
   "cell_type": "code",
   "execution_count": 66,
   "metadata": {},
   "outputs": [
    {
     "data": {
      "text/plain": [
       "[(1, 's'), (2, 'l'), (3, 'o')]"
      ]
     },
     "execution_count": 66,
     "metadata": {},
     "output_type": "execute_result"
    }
   ],
   "source": [
    "list(zip(kratsi_cisla, slovo))"
   ]
  },
  {
   "cell_type": "markdown",
   "metadata": {},
   "source": [
    "Pokud jsou argumenty různé délky, zip se bude řídit tím nejkratším z nich."
   ]
  }
 ],
 "metadata": {
  "kernelspec": {
   "display_name": "Python 3",
   "language": "python",
   "name": "python3"
  },
  "language_info": {
   "codemirror_mode": {
    "name": "ipython",
    "version": 3
   },
   "file_extension": ".py",
   "mimetype": "text/x-python",
   "name": "python",
   "nbconvert_exporter": "python",
   "pygments_lexer": "ipython3",
   "version": "3.6.4"
  }
 },
 "nbformat": 4,
 "nbformat_minor": 2
}
