{
 "cells": [
  {
   "cell_type": "markdown",
   "metadata": {},
   "source": [
    "# Formátování řetězců"
   ]
  },
  {
   "cell_type": "markdown",
   "metadata": {},
   "source": [
    "V Pythonu existuje několi způsbů, jak je možné naformátovat řetězec — vložit do něj proměnné. My si ukážeme ty preferované a novější."
   ]
  },
  {
   "cell_type": "markdown",
   "metadata": {},
   "source": [
    "## Metoda .format()"
   ]
  },
  {
   "cell_type": "markdown",
   "metadata": {},
   "source": [
    "### Vládání proměnných do řetězců"
   ]
  },
  {
   "cell_type": "markdown",
   "metadata": {},
   "source": [
    "V úplně nejzákladnějším použití nám metoda `.format()` vloží argumenty na místa označená `{}` (složenými závorkami) v řetězci na základě jejich pořadí, přičemž počet položek  v řetězci a argumentů metody musí být shodný."
   ]
  },
  {
   "cell_type": "code",
   "execution_count": 1,
   "metadata": {},
   "outputs": [
    {
     "data": {
      "text/plain": [
       "'one two'"
      ]
     },
     "execution_count": 1,
     "metadata": {},
     "output_type": "execute_result"
    }
   ],
   "source": [
    "'{} {}'.format('one', 'two')"
   ]
  },
  {
   "cell_type": "markdown",
   "metadata": {},
   "source": [
    "Pokud chceme měnit pořadí položek v řetězci či vložit jednu položku do řetězce vícekrát, můžeme do složených závorek v řetězci přidat čísla, která korespondují s pozicemi jednotlivých argumentů."
   ]
  },
  {
   "cell_type": "code",
   "execution_count": 2,
   "metadata": {},
   "outputs": [
    {
     "data": {
      "text/plain": [
       "'two one two'"
      ]
     },
     "execution_count": 2,
     "metadata": {},
     "output_type": "execute_result"
    }
   ],
   "source": [
    "'{1} {0} {1}'.format('one', 'two')"
   ]
  },
  {
   "cell_type": "markdown",
   "metadata": {},
   "source": [
    "A stejně jako čísla můžeme pro vkládání použít jména, která sice celý zápis znatelně prodlouží, ale přispějí k lepší čitelnosti. Argumenty metody `.format()` pak musí být pojmenované."
   ]
  },
  {
   "cell_type": "code",
   "execution_count": 3,
   "metadata": {},
   "outputs": [
    {
     "data": {
      "text/plain": [
       "'two one two'"
      ]
     },
     "execution_count": 3,
     "metadata": {},
     "output_type": "execute_result"
    }
   ],
   "source": [
    "'{druha} {prvni} {druha}'.format(prvni='one', druha='two')"
   ]
  },
  {
   "cell_type": "markdown",
   "metadata": {},
   "source": [
    "Možností při vkládání proměnných do řetězců je celá řada. Nastavování různých vlastností je možné pro každou vkládanou proměnnou zvlášť pomocí dvojtečky. Před dvojtečku se vloží číslo nebo jméno identifikující vkládanou proměnnou (nebo ani jedno pro poziční vkládání) a za dvojtečku pak nastavené vlastnosti.\n",
    "\n",
    "V následujících příkladech budeme pro jednoduchost používat automatické umístění vkládaných proměnných podle jejich pozice. Pokud bychom chtěli být přesnější, použili bychom před dvojtečkou vždy číslo nebo jméno argumentu."
   ]
  },
  {
   "cell_type": "markdown",
   "metadata": {},
   "source": [
    "### Zarovnávání"
   ]
  },
  {
   "cell_type": "markdown",
   "metadata": {},
   "source": [
    "V základu není vkládaný řetězec nijak zarovnán, protože se vkládá jen tolik znaků, kolik je potřeba, a tak není co zarovnávat. Situace se změní, když za dvojtečkou definujeme celkovou délku vkládaného řetězce. Pokud je řetězec menší než celková délka, doplní se mezerami a je automaticky zarovnán doleva."
   ]
  },
  {
   "cell_type": "code",
   "execution_count": 4,
   "metadata": {},
   "outputs": [
    {
     "data": {
      "text/plain": [
       "'začátek test       konec'"
      ]
     },
     "execution_count": 4,
     "metadata": {},
     "output_type": "execute_result"
    }
   ],
   "source": [
    "'začátek {:10} konec'.format('test')"
   ]
  },
  {
   "cell_type": "markdown",
   "metadata": {},
   "source": [
    "Vložením znaku `>` mezi dvojtečku a určení délky se dá řetězec zarovnat doprava."
   ]
  },
  {
   "cell_type": "code",
   "execution_count": 5,
   "metadata": {},
   "outputs": [
    {
     "data": {
      "text/plain": [
       "'začátek       test konec'"
      ]
     },
     "execution_count": 5,
     "metadata": {},
     "output_type": "execute_result"
    }
   ],
   "source": [
    "'začátek {:>10} konec'.format('test')"
   ]
  },
  {
   "cell_type": "markdown",
   "metadata": {},
   "source": [
    "A znak `^` nám jej zarovná doprostřed."
   ]
  },
  {
   "cell_type": "code",
   "execution_count": 6,
   "metadata": {},
   "outputs": [
    {
     "data": {
      "text/plain": [
       "'začátek    test    konec'"
      ]
     },
     "execution_count": 6,
     "metadata": {},
     "output_type": "execute_result"
    }
   ],
   "source": [
    "'začátek {:^10} konec'.format('test')"
   ]
  },
  {
   "cell_type": "markdown",
   "metadata": {},
   "source": [
    "U delších řetězců pak zarovnání nemá vliv, protože vkládaný řetězec se nedoplní o mezery a tak opět není kam zarovnávat."
   ]
  },
  {
   "cell_type": "code",
   "execution_count": 7,
   "metadata": {},
   "outputs": [
    {
     "data": {
      "text/plain": [
       "'začátek řetězec daleko delší než deset znaků konec'"
      ]
     },
     "execution_count": 7,
     "metadata": {},
     "output_type": "execute_result"
    }
   ],
   "source": [
    "'začátek {:^10} konec'.format('řetězec daleko delší než deset znaků')"
   ]
  },
  {
   "cell_type": "markdown",
   "metadata": {},
   "source": [
    "### Ořezávání"
   ]
  },
  {
   "cell_type": "markdown",
   "metadata": {},
   "source": [
    "Za definici zarovnání a celkové délky vkládaného řetězce můžeme připsat ještě tečku a číslo, které nám označí, kolik znaků se z vkládaného řetězce má použít.\n",
    "\n",
    "V následujícím příkladu tedy z dlouhého řetězce vezmeme jen deset znaků a zarovnáme jej doprostřed s celkovou délkou dvaceti znaků."
   ]
  },
  {
   "cell_type": "code",
   "execution_count": 8,
   "metadata": {},
   "outputs": [
    {
     "data": {
      "text/plain": [
       "'začátek      řetězec da      konec'"
      ]
     },
     "execution_count": 8,
     "metadata": {},
     "output_type": "execute_result"
    }
   ],
   "source": [
    "'začátek {:^20.10} konec'.format('řetězec daleko delší než deset znaků')"
   ]
  },
  {
   "cell_type": "markdown",
   "metadata": {},
   "source": [
    "Oříznutí se dá použít i samostatně - stačí vynechat informace o zarovnání a délce řetězce."
   ]
  },
  {
   "cell_type": "code",
   "execution_count": 9,
   "metadata": {},
   "outputs": [
    {
     "data": {
      "text/plain": [
       "'začátek řetězec da konec'"
      ]
     },
     "execution_count": 9,
     "metadata": {},
     "output_type": "execute_result"
    }
   ],
   "source": [
    "'začátek {:.10} konec'.format('řetězec daleko delší než deset znaků')"
   ]
  },
  {
   "cell_type": "markdown",
   "metadata": {},
   "source": [
    "### Čísla"
   ]
  },
  {
   "cell_type": "markdown",
   "metadata": {},
   "source": [
    "Při vkládání čísel můžeme postupovat úplně stejně, jako bychom vkládali jakoukoli jinou hodnotu."
   ]
  },
  {
   "cell_type": "code",
   "execution_count": 10,
   "metadata": {},
   "outputs": [
    {
     "data": {
      "text/plain": [
       "'42'"
      ]
     },
     "execution_count": 10,
     "metadata": {},
     "output_type": "execute_result"
    }
   ],
   "source": [
    "'{}'.format(42)"
   ]
  },
  {
   "cell_type": "markdown",
   "metadata": {},
   "source": [
    "Pokud si ale chceme být jisti, že se do řetězce vkládá opravdu číslo, můžeme za dvojtečkou použít `d` pro celá čísla a `f` pro čísla s desetinnou tečkou."
   ]
  },
  {
   "cell_type": "code",
   "execution_count": 11,
   "metadata": {},
   "outputs": [
    {
     "data": {
      "text/plain": [
       "'42'"
      ]
     },
     "execution_count": 11,
     "metadata": {},
     "output_type": "execute_result"
    }
   ],
   "source": [
    "'{:d}'.format(42)"
   ]
  },
  {
   "cell_type": "markdown",
   "metadata": {},
   "source": [
    "Na první pohled se nic nezměnilo, ale `.format()` nám nedovolí na místo označené písmenem `d` nebo `f` vložit jiný datový typ."
   ]
  },
  {
   "cell_type": "code",
   "execution_count": 12,
   "metadata": {},
   "outputs": [
    {
     "ename": "ValueError",
     "evalue": "Unknown format code 'd' for object of type 'str'",
     "output_type": "error",
     "traceback": [
      "\u001b[0;31m---------------------------------------------------------------------------\u001b[0m",
      "\u001b[0;31mValueError\u001b[0m                                Traceback (most recent call last)",
      "\u001b[0;32m<ipython-input-12-c71afef08daa>\u001b[0m in \u001b[0;36m<module>\u001b[0;34m()\u001b[0m\n\u001b[0;32m----> 1\u001b[0;31m \u001b[0;34m'{:d}'\u001b[0m\u001b[0;34m.\u001b[0m\u001b[0mformat\u001b[0m\u001b[0;34m(\u001b[0m\u001b[0;34m'pepa'\u001b[0m\u001b[0;34m)\u001b[0m\u001b[0;34m\u001b[0m\u001b[0m\n\u001b[0m",
      "\u001b[0;31mValueError\u001b[0m: Unknown format code 'd' for object of type 'str'"
     ]
    }
   ],
   "source": [
    "'{:d}'.format('pepa')"
   ]
  },
  {
   "cell_type": "markdown",
   "metadata": {},
   "source": [
    "Před `d` je možné doplnit znaménko `+`, které nám zajistí zobrazení znaménka ve výsledném řetězci bez ohledu na to, zda je vkládané číslo kladné či záporné."
   ]
  },
  {
   "cell_type": "code",
   "execution_count": 13,
   "metadata": {},
   "outputs": [
    {
     "data": {
      "text/plain": [
       "'-42'"
      ]
     },
     "execution_count": 13,
     "metadata": {},
     "output_type": "execute_result"
    }
   ],
   "source": [
    "'{:+d}'.format(-42)"
   ]
  },
  {
   "cell_type": "code",
   "execution_count": 14,
   "metadata": {},
   "outputs": [
    {
     "data": {
      "text/plain": [
       "'+42'"
      ]
     },
     "execution_count": 14,
     "metadata": {},
     "output_type": "execute_result"
    }
   ],
   "source": [
    "'{:+d}'.format(42)"
   ]
  },
  {
   "cell_type": "markdown",
   "metadata": {},
   "source": [
    "K dispozici pak máme standardní odsazování mezerami."
   ]
  },
  {
   "cell_type": "code",
   "execution_count": 15,
   "metadata": {},
   "outputs": [
    {
     "data": {
      "text/plain": [
       "'  42'"
      ]
     },
     "execution_count": 15,
     "metadata": {},
     "output_type": "execute_result"
    }
   ],
   "source": [
    "'{:4d}'.format(42)"
   ]
  },
  {
   "cell_type": "markdown",
   "metadata": {},
   "source": [
    "Ale třeba také odsazování pomocí nul."
   ]
  },
  {
   "cell_type": "code",
   "execution_count": 16,
   "metadata": {},
   "outputs": [
    {
     "data": {
      "text/plain": [
       "'0042'"
      ]
     },
     "execution_count": 16,
     "metadata": {},
     "output_type": "execute_result"
    }
   ],
   "source": [
    "'{:04d}'.format(42)"
   ]
  },
  {
   "cell_type": "markdown",
   "metadata": {},
   "source": [
    "U čísel s desetinnou tečkou pak dochází k automatickému zaokrouhlení na šest desetinných míst."
   ]
  },
  {
   "cell_type": "code",
   "execution_count": 17,
   "metadata": {},
   "outputs": [
    {
     "data": {
      "text/plain": [
       "'3.141593'"
      ]
     },
     "execution_count": 17,
     "metadata": {},
     "output_type": "execute_result"
    }
   ],
   "source": [
    "'{:f}'.format(3.141592653589793)"
   ]
  },
  {
   "cell_type": "markdown",
   "metadata": {},
   "source": [
    "Podobně jako při ořezávání řetězců nám zde tečka poslouží pro změnu počtu desetinných míst."
   ]
  },
  {
   "cell_type": "code",
   "execution_count": 18,
   "metadata": {},
   "outputs": [
    {
     "data": {
      "text/plain": [
       "'3.14'"
      ]
     },
     "execution_count": 18,
     "metadata": {},
     "output_type": "execute_result"
    }
   ],
   "source": [
    "'{:.2f}'.format(3.141592653589793)"
   ]
  },
  {
   "cell_type": "markdown",
   "metadata": {},
   "source": [
    "Zaokrouhlení desetinných míst je také možné nakombinovat s odsazením a definicí celkové délky."
   ]
  },
  {
   "cell_type": "code",
   "execution_count": 19,
   "metadata": {},
   "outputs": [
    {
     "data": {
      "text/plain": [
       "'003.14'"
      ]
     },
     "execution_count": 19,
     "metadata": {},
     "output_type": "execute_result"
    }
   ],
   "source": [
    "'{:06.2f}'.format(3.141592653589793)"
   ]
  },
  {
   "cell_type": "markdown",
   "metadata": {},
   "source": [
    "### Složitější datové struktury"
   ]
  },
  {
   "cell_type": "markdown",
   "metadata": {},
   "source": [
    "Při vkládání většího množství proměnných nemusíme metodě `.format()` předávat proměnné po jedné, ale můžeme jí předat celý slovník či seznam a konkrétní prvky určit ve formátovaném řetězci.\n",
    "\n",
    "Ze slovníku je možné dostat jednotlivé hodnoty podle klíčů, ze seznamu podle pozic a ze tříd jednotlivé atributy."
   ]
  },
  {
   "cell_type": "code",
   "execution_count": 20,
   "metadata": {},
   "outputs": [
    {
     "data": {
      "text/plain": [
       "'Jean-Luc Picard 23 42 strom'"
      ]
     },
     "execution_count": 20,
     "metadata": {},
     "output_type": "execute_result"
    }
   ],
   "source": [
    "osoba = {'jmeno': 'Jean-Luc', 'prijmeni': 'Picard'}\n",
    "cisla = [4, 8, 15, 16, 23, 42]\n",
    "\n",
    "class Rostlina(object):\n",
    "    typ = 'strom'\n",
    "\n",
    "'{o[jmeno]} {o[prijmeni]} {d[4]} {d[5]} {t.typ}'.format(o=osoba, d=cisla, t=Rostlina())"
   ]
  },
  {
   "cell_type": "markdown",
   "metadata": {},
   "source": [
    "### Speciální datové typy"
   ]
  },
  {
   "cell_type": "markdown",
   "metadata": {},
   "source": [
    "Některé datové typy mají definován vlastní formát, který můžeme při jejich výpisu použít. Při psaní vlastních tříd můžeme formát definovat v metodě `__format__()`."
   ]
  },
  {
   "cell_type": "code",
   "execution_count": 21,
   "metadata": {},
   "outputs": [
    {
     "name": "stdout",
     "output_type": "stream",
     "text": [
      "2018-04-24 16:56:40.164086\n",
      "24. 04. 2018 16:56\n"
     ]
    }
   ],
   "source": [
    "from datetime import datetime\n",
    "\n",
    "ted = datetime.now()\n",
    "\n",
    "print(ted)\n",
    "\n",
    "print('{:%d. %m. %Y %H:%M}'.format(ted))"
   ]
  },
  {
   "cell_type": "markdown",
   "metadata": {},
   "source": [
    "### Parametrický formát"
   ]
  },
  {
   "cell_type": "markdown",
   "metadata": {},
   "source": [
    "Budeme-li chtít definovat vlastnosti formátování až při běhu programu, můžeme i je zadat pomocí proměnných."
   ]
  },
  {
   "cell_type": "code",
   "execution_count": 22,
   "metadata": {},
   "outputs": [
    {
     "data": {
      "text/plain": [
       "'        test        '"
      ]
     },
     "execution_count": 22,
     "metadata": {},
     "output_type": "execute_result"
    }
   ],
   "source": [
    "zarovnani = '^'\n",
    "sirka = 20\n",
    "\n",
    "'{:{zarovnani}{sirka}}'.format('test', zarovnani=zarovnani, sirka=sirka)"
   ]
  },
  {
   "cell_type": "code",
   "execution_count": 23,
   "metadata": {},
   "outputs": [
    {
     "data": {
      "text/plain": [
       "'3.142 3.142'"
      ]
     },
     "execution_count": 23,
     "metadata": {},
     "output_type": "execute_result"
    }
   ],
   "source": [
    "'{0:.{presnost}f} {0:.{presnost}f}'.format(3.141592653589793, presnost=3)"
   ]
  },
  {
   "cell_type": "markdown",
   "metadata": {},
   "source": [
    "Jak je ale opět vidno na posledních příkladech, příliš velká komplexnost formátovacích řetězců nutně vede k razantnímu snížení čitelnosti a proto může být kontraproduktivní."
   ]
  },
  {
   "cell_type": "markdown",
   "metadata": {},
   "source": [
    "## f-string"
   ]
  },
  {
   "cell_type": "markdown",
   "metadata": {},
   "source": [
    "Některé klasické zápisy zápisy mohou být sice přehledné, ale také celkem zdlouhavé na napsání. \n",
    "\n",
    "Například:"
   ]
  },
  {
   "cell_type": "code",
   "execution_count": 24,
   "metadata": {},
   "outputs": [
    {
     "data": {
      "text/plain": [
       "'Pepa Novák bude dne 10. července slavit jubileum'"
      ]
     },
     "execution_count": 24,
     "metadata": {},
     "output_type": "execute_result"
    }
   ],
   "source": [
    "jmeno = 'Pepa'\n",
    "prijmeni = 'Novák'\n",
    "narozeniny = '10. července'\n",
    "\n",
    "'{jmeno} {prijmeni} bude dne {narozeniny} slavit jubileum'.format(\n",
    "    jmeno=jmeno,\n",
    "    prijmeni=prijmeni,\n",
    "    narozeniny=narozeniny\n",
    ")"
   ]
  },
  {
   "cell_type": "markdown",
   "metadata": {},
   "source": [
    "Naštěstí existuje snazší cesta. Od Pythonu 3.6 je možnost definovat tzv. f-stringy, které umožňují vkládat proměnné do řetězců přímo bez volání metody `.format()`. Navíc je tato možnost o hodně rychlejší než jiné způsoby, co se rychlosti provádění programu týče."
   ]
  },
  {
   "cell_type": "code",
   "execution_count": 25,
   "metadata": {},
   "outputs": [
    {
     "data": {
      "text/plain": [
       "'V proměnné je uložen testovací řetězec'"
      ]
     },
     "execution_count": 25,
     "metadata": {},
     "output_type": "execute_result"
    }
   ],
   "source": [
    "promenna = 'testovací řetězec'\n",
    "\n",
    "f'V proměnné je uložen {promenna}'"
   ]
  },
  {
   "cell_type": "markdown",
   "metadata": {},
   "source": [
    "Abychom mohli vkládat proměnné do řetězců přímo, musíme řetězec označit pomocí `f` před první uvozovkou. Jinak je vše naprosto stejné, jako bychom použili metodu `.format()`."
   ]
  },
  {
   "cell_type": "code",
   "execution_count": 26,
   "metadata": {},
   "outputs": [
    {
     "data": {
      "text/plain": [
       "'začátek      řetězec da      konec'"
      ]
     },
     "execution_count": 26,
     "metadata": {},
     "output_type": "execute_result"
    }
   ],
   "source": [
    "text = 'řetězec daleko delší než deset znaků'\n",
    "\n",
    "f'začátek {text:^20.10} konec'"
   ]
  }
 ],
 "metadata": {
  "kernelspec": {
   "display_name": "Python 3",
   "language": "python",
   "name": "python3"
  },
  "language_info": {
   "codemirror_mode": {
    "name": "ipython",
    "version": 3
   },
   "file_extension": ".py",
   "mimetype": "text/x-python",
   "name": "python",
   "nbconvert_exporter": "python",
   "pygments_lexer": "ipython3",
   "version": "3.6.5"
  }
 },
 "nbformat": 4,
 "nbformat_minor": 2
}
