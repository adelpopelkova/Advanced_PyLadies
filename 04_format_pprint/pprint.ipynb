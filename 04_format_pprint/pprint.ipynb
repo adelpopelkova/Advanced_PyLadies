{
 "cells": [
  {
   "cell_type": "markdown",
   "metadata": {},
   "source": [
    "# Pretty print"
   ]
  },
  {
   "cell_type": "markdown",
   "metadata": {},
   "source": [
    "`pprint` je modul standardní knihovny, který v sobě obsahuje funkce podobné kombinaci funkce `print` a metody `format`, které slouží k přehlednému výpisu složitějších datových struktur, což se hodí znát především pro pohodlnější ladění programů.\n",
    "\n",
    "Pro potřeby následujících ukázek si vytvoříme složitější datovou strukturu z kombinace dvojic, slovníků a seznamu."
   ]
  },
  {
   "cell_type": "code",
   "execution_count": 1,
   "metadata": {},
   "outputs": [],
   "source": [
    "slovnik = {'a':'A', 'b':'B', 'c':'C', 'd':'D', 'e':'E', 'f':'F'}\n",
    "data = []\n",
    "\n",
    "for x in range(5):\n",
    "    data.append((x, dict(slovnik)))"
   ]
  },
  {
   "cell_type": "markdown",
   "metadata": {},
   "source": [
    "Výpis složitější struktury dat pomocí funkce `print` nám sice poskytne veškeré potřebné informace, ale jejich forma není moc vhodná pro čtení."
   ]
  },
  {
   "cell_type": "code",
   "execution_count": 2,
   "metadata": {},
   "outputs": [
    {
     "name": "stdout",
     "output_type": "stream",
     "text": [
      "[(0, {'a': 'A', 'b': 'B', 'c': 'C', 'd': 'D', 'e': 'E', 'f': 'F'}), (1, {'a': 'A', 'b': 'B', 'c': 'C', 'd': 'D', 'e': 'E', 'f': 'F'}), (2, {'a': 'A', 'b': 'B', 'c': 'C', 'd': 'D', 'e': 'E', 'f': 'F'}), (3, {'a': 'A', 'b': 'B', 'c': 'C', 'd': 'D', 'e': 'E', 'f': 'F'}), (4, {'a': 'A', 'b': 'B', 'c': 'C', 'd': 'D', 'e': 'E', 'f': 'F'})]\n"
     ]
    }
   ],
   "source": [
    "print(data)"
   ]
  },
  {
   "cell_type": "markdown",
   "metadata": {},
   "source": [
    "## pprint"
   ]
  },
  {
   "cell_type": "markdown",
   "metadata": {},
   "source": [
    "Funkce `pprint` ze stejnojmenného modulu se chová velmi podobně jako známá funkce `print`, ale datové struktury vypisuje v daleko čitejnější formě."
   ]
  },
  {
   "cell_type": "code",
   "execution_count": 3,
   "metadata": {},
   "outputs": [
    {
     "name": "stdout",
     "output_type": "stream",
     "text": [
      "[(0, {'a': 'A', 'b': 'B', 'c': 'C', 'd': 'D', 'e': 'E', 'f': 'F'}),\n",
      " (1, {'a': 'A', 'b': 'B', 'c': 'C', 'd': 'D', 'e': 'E', 'f': 'F'}),\n",
      " (2, {'a': 'A', 'b': 'B', 'c': 'C', 'd': 'D', 'e': 'E', 'f': 'F'}),\n",
      " (3, {'a': 'A', 'b': 'B', 'c': 'C', 'd': 'D', 'e': 'E', 'f': 'F'}),\n",
      " (4, {'a': 'A', 'b': 'B', 'c': 'C', 'd': 'D', 'e': 'E', 'f': 'F'})]\n"
     ]
    }
   ],
   "source": [
    "from pprint import pprint\n",
    "\n",
    "pprint(data)"
   ]
  },
  {
   "cell_type": "markdown",
   "metadata": {},
   "source": [
    "Navíc je možné její chování ovlivnit několika pojmenovanými argumenty - `indent` nastavuje odsazení zanořených datových struktur a `width` pak maximální počet znaků výpisu na jednom řádku."
   ]
  },
  {
   "cell_type": "code",
   "execution_count": 4,
   "metadata": {},
   "outputs": [
    {
     "name": "stdout",
     "output_type": "stream",
     "text": [
      "[   (   0,\n",
      "        {   'a': 'A',\n",
      "            'b': 'B',\n",
      "            'c': 'C',\n",
      "            'd': 'D',\n",
      "            'e': 'E',\n",
      "            'f': 'F'}),\n",
      "    (   1,\n",
      "        {   'a': 'A',\n",
      "            'b': 'B',\n",
      "            'c': 'C',\n",
      "            'd': 'D',\n",
      "            'e': 'E',\n",
      "            'f': 'F'}),\n",
      "    (   2,\n",
      "        {   'a': 'A',\n",
      "            'b': 'B',\n",
      "            'c': 'C',\n",
      "            'd': 'D',\n",
      "            'e': 'E',\n",
      "            'f': 'F'}),\n",
      "    (   3,\n",
      "        {   'a': 'A',\n",
      "            'b': 'B',\n",
      "            'c': 'C',\n",
      "            'd': 'D',\n",
      "            'e': 'E',\n",
      "            'f': 'F'}),\n",
      "    (   4,\n",
      "        {   'a': 'A',\n",
      "            'b': 'B',\n",
      "            'c': 'C',\n",
      "            'd': 'D',\n",
      "            'e': 'E',\n",
      "            'f': 'F'})]\n"
     ]
    }
   ],
   "source": [
    "pprint(data, indent=4, width=40)"
   ]
  },
  {
   "cell_type": "markdown",
   "metadata": {},
   "source": [
    "Parametr `depth` nastavuje, kolik úrovní zanořených dat se má vypsat a umožní tak vynechat pro nás nezajímavá a příliš zanořená data."
   ]
  },
  {
   "cell_type": "code",
   "execution_count": 5,
   "metadata": {},
   "outputs": [
    {
     "name": "stdout",
     "output_type": "stream",
     "text": [
      "[ (0, {...}),\n",
      "  (1, {...}),\n",
      "  (2, {...}),\n",
      "  (3, {...}),\n",
      "  (4, {...})]\n"
     ]
    }
   ],
   "source": [
    "pprint(data, indent=2, width=20, depth=2)"
   ]
  },
  {
   "cell_type": "markdown",
   "metadata": {},
   "source": [
    "## pformat"
   ]
  },
  {
   "cell_type": "markdown",
   "metadata": {},
   "source": [
    "Funkce `pformat` funguje stejně jako funkce `pprint` s tím rozdílem, že místo výpisu výsledku nám výsledek formátování vrátí jako řetězec připravený k dalšímu zpracování. To se může velmi hodit, když potřebujeme vypisovat data v rámci logování nebo je naformátované někam odeslat."
   ]
  },
  {
   "cell_type": "code",
   "execution_count": 6,
   "metadata": {},
   "outputs": [
    {
     "name": "stderr",
     "output_type": "stream",
     "text": [
      "DEBUG    Logging pformatted data\n",
      "DEBUG    [ ( 0,\n",
      "    { 'a': 'A',\n",
      "      'b': 'B',\n",
      "      'c': 'C',\n",
      "      'd': 'D',\n",
      "      'e': 'E',\n",
      "      'f': 'F'}),\n",
      "  ( 1,\n",
      "    { 'a': 'A',\n",
      "      'b': 'B',\n",
      "      'c': 'C',\n",
      "      'd': 'D',\n",
      "      'e': 'E',\n",
      "      'f': 'F'}),\n",
      "  ( 2,\n",
      "    { 'a': 'A',\n",
      "      'b': 'B',\n",
      "      'c': 'C',\n",
      "      'd': 'D',\n",
      "      'e': 'E',\n",
      "      'f': 'F'}),\n",
      "  ( 3,\n",
      "    { 'a': 'A',\n",
      "      'b': 'B',\n",
      "      'c': 'C',\n",
      "      'd': 'D',\n",
      "      'e': 'E',\n",
      "      'f': 'F'}),\n",
      "  ( 4,\n",
      "    { 'a': 'A',\n",
      "      'b': 'B',\n",
      "      'c': 'C',\n",
      "      'd': 'D',\n",
      "      'e': 'E',\n",
      "      'f': 'F'})]\n"
     ]
    }
   ],
   "source": [
    "import logging\n",
    "from pprint import pformat\n",
    "\n",
    "logging.basicConfig(level=logging.DEBUG,\n",
    "                    format='%(levelname)-8s %(message)s',\n",
    "                    )\n",
    "\n",
    "formatovany_vypis = pformat(data, width=40, indent=2)\n",
    "\n",
    "logging.debug('Logging pformatted data')\n",
    "logging.debug(formatovany_vypis)"
   ]
  },
  {
   "cell_type": "markdown",
   "metadata": {},
   "source": [
    "Funkce `pprint` i `pformat` používají třídu `PrettyPrinter`, která je ve stejném modulu a je možné ji použít i přímo, nicméně pro většinu případů použití popsaných funkcí bohatě postačuje. Více o modulu `pprint` je možné najít [v dokumentaci](https://docs.python.org/3/library/pprint.html)."
   ]
  }
 ],
 "metadata": {
  "kernelspec": {
   "display_name": "Python 3",
   "language": "python",
   "name": "python3"
  },
  "language_info": {
   "codemirror_mode": {
    "name": "ipython",
    "version": 3
   },
   "file_extension": ".py",
   "mimetype": "text/x-python",
   "name": "python",
   "nbconvert_exporter": "python",
   "pygments_lexer": "ipython3",
   "version": "3.6.5"
  }
 },
 "nbformat": 4,
 "nbformat_minor": 2
}
