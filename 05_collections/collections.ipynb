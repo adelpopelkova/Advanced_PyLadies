{
 "cells": [
  {
   "cell_type": "markdown",
   "metadata": {},
   "source": [
    "# Datové struktury z modulu collections"
   ]
  },
  {
   "cell_type": "markdown",
   "metadata": {},
   "source": [
    "Modul `collections` obsahuje celou řadu zajímavých datováých struktur, které na první pohled umí to samé jako slovníky, seznamy či ntice, ale přidávají k tomu i něco navíc."
   ]
  },
  {
   "cell_type": "markdown",
   "metadata": {},
   "source": [
    "## OrderedDict"
   ]
  },
  {
   "cell_type": "markdown",
   "metadata": {},
   "source": [
    "Pro začátek si dáme něco jednoduchého. `OrderedDict` je v podstatě obyčejný slovník, který ale umí zachovávat pořadí vložených prvků, a také pár dalších drobností, které s pořadím prvků souvisí."
   ]
  },
  {
   "cell_type": "code",
   "execution_count": 1,
   "metadata": {},
   "outputs": [],
   "source": [
    "from collections import OrderedDict"
   ]
  },
  {
   "cell_type": "code",
   "execution_count": 2,
   "metadata": {},
   "outputs": [
    {
     "data": {
      "text/plain": [
       "OrderedDict([('třešeň', 0),\n",
       "             ('banán', 3),\n",
       "             ('jablko', 4),\n",
       "             ('hruška', 1),\n",
       "             ('pomeranč', 2),\n",
       "             ('kiwi', 1)])"
      ]
     },
     "execution_count": 2,
     "metadata": {},
     "output_type": "execute_result"
    }
   ],
   "source": [
    "slovnik = OrderedDict()\n",
    "\n",
    "slovnik[\"třešeň\"] = 0\n",
    "slovnik[\"banán\"] = 3\n",
    "slovnik[\"jablko\"] = 4\n",
    "slovnik[\"hruška\"] = 1\n",
    "slovnik[\"pomeranč\"] = 2\n",
    "slovnik[\"kiwi\"] = 1\n",
    "\n",
    "slovnik"
   ]
  },
  {
   "cell_type": "markdown",
   "metadata": {},
   "source": [
    "Metoda `popitem` například existuje i u klasických slovníků, ale u `OrderedDict` si můžeme být jisti, že nám vrátí opravdu první či poslední vloženou dvojici:"
   ]
  },
  {
   "cell_type": "code",
   "execution_count": 3,
   "metadata": {},
   "outputs": [
    {
     "data": {
      "text/plain": [
       "('kiwi', 1)"
      ]
     },
     "execution_count": 3,
     "metadata": {},
     "output_type": "execute_result"
    }
   ],
   "source": [
    "slovnik.popitem()"
   ]
  },
  {
   "cell_type": "code",
   "execution_count": 4,
   "metadata": {},
   "outputs": [
    {
     "data": {
      "text/plain": [
       "('třešeň', 0)"
      ]
     },
     "execution_count": 4,
     "metadata": {},
     "output_type": "execute_result"
    }
   ],
   "source": [
    "slovnik.popitem(last=False)"
   ]
  },
  {
   "cell_type": "markdown",
   "metadata": {},
   "source": [
    "Když upravíme hodnotu nějakého klíče, zůstane pořadí nezměněno:"
   ]
  },
  {
   "cell_type": "code",
   "execution_count": 5,
   "metadata": {},
   "outputs": [
    {
     "data": {
      "text/plain": [
       "OrderedDict([('banán', 3), ('jablko', 10), ('hruška', 1), ('pomeranč', 2)])"
      ]
     },
     "execution_count": 5,
     "metadata": {},
     "output_type": "execute_result"
    }
   ],
   "source": [
    "slovnik[\"jablko\"] = 10\n",
    "slovnik"
   ]
  },
  {
   "cell_type": "markdown",
   "metadata": {},
   "source": [
    "Se změnou pořadí nám může pomoci metoda `move_to_end`:"
   ]
  },
  {
   "cell_type": "code",
   "execution_count": 6,
   "metadata": {},
   "outputs": [
    {
     "data": {
      "text/plain": [
       "OrderedDict([('pomeranč', 2), ('banán', 3), ('hruška', 1), ('jablko', 10)])"
      ]
     },
     "execution_count": 6,
     "metadata": {},
     "output_type": "execute_result"
    }
   ],
   "source": [
    "slovnik.move_to_end(\"jablko\")\n",
    "slovnik.move_to_end(\"pomeranč\", last=False)\n",
    "slovnik"
   ]
  },
  {
   "cell_type": "markdown",
   "metadata": {},
   "source": [
    "Na důležitý rozdíl narazíme i při porovnávání. U bězných slovníků se při porovnávání zabýváme jen jejich obsahem, ale u `OrderedDict` musí být totožný obsah i pořadí prvků:"
   ]
  },
  {
   "cell_type": "code",
   "execution_count": 7,
   "metadata": {},
   "outputs": [
    {
     "data": {
      "text/plain": [
       "False"
      ]
     },
     "execution_count": 7,
     "metadata": {},
     "output_type": "execute_result"
    }
   ],
   "source": [
    "sl1 = OrderedDict([(\"chleba\", 1), (\"mouka\", 3), (\"máslo\", 2)])\n",
    "sl2 = OrderedDict([(\"mouka\", 3), (\"máslo\", 2), (\"chleba\", 1)])\n",
    "\n",
    "sl1 == sl2"
   ]
  },
  {
   "cell_type": "code",
   "execution_count": 8,
   "metadata": {},
   "outputs": [
    {
     "data": {
      "text/plain": [
       "True"
      ]
     },
     "execution_count": 8,
     "metadata": {},
     "output_type": "execute_result"
    }
   ],
   "source": [
    "sl1.move_to_end(\"chleba\")\n",
    "\n",
    "sl1 == sl2"
   ]
  },
  {
   "cell_type": "markdown",
   "metadata": {},
   "source": [
    "## defaultdict"
   ]
  },
  {
   "cell_type": "markdown",
   "metadata": {},
   "source": [
    "`defaultdict` je, jak už název napovídá, slovník s podporou výchozích hodnot. Při získávání hodnot z normálního slovníku si musíte být jisti, že klíč ve slovníku existuje, nebo použít podmínky či výjimky k odchycení případné chyby. `defaultdict` umí pracovat i s neexistujícími klíči a místo chyby vrátit výchozí hodnotu. Pojďme si to ukázat na příkladu, kdy budeme chtít vypočítat počty výskytů znaků v textu.\n",
    "\n",
    "Příprava slovníku dopředu je velmi nepraktická, protože stačí zapomenout na jeden znak, který se pak ve zpracovaném textu objeví, a program přestane fungovat. Pojďme raději ověřovat, zda se už znak ve slovníku nachází:"
   ]
  },
  {
   "cell_type": "code",
   "execution_count": 9,
   "metadata": {},
   "outputs": [],
   "source": [
    "from collections import defaultdict\n",
    "\n",
    "text = \"Advanced Python\""
   ]
  },
  {
   "cell_type": "code",
   "execution_count": 10,
   "metadata": {},
   "outputs": [
    {
     "data": {
      "text/plain": [
       "{' ': 1,\n",
       " 'a': 2,\n",
       " 'c': 1,\n",
       " 'd': 2,\n",
       " 'e': 1,\n",
       " 'h': 1,\n",
       " 'n': 2,\n",
       " 'o': 1,\n",
       " 'p': 1,\n",
       " 't': 1,\n",
       " 'v': 1,\n",
       " 'y': 1}"
      ]
     },
     "execution_count": 10,
     "metadata": {},
     "output_type": "execute_result"
    }
   ],
   "source": [
    "pocet = {}\n",
    "\n",
    "for znak in text.lower():\n",
    "    if znak in pocet:\n",
    "        pocet[znak] += 1\n",
    "    else:\n",
    "        pocet[znak] = 1\n",
    "\n",
    "pocet"
   ]
  },
  {
   "cell_type": "code",
   "execution_count": 11,
   "metadata": {},
   "outputs": [
    {
     "data": {
      "text/plain": [
       "1"
      ]
     },
     "execution_count": 11,
     "metadata": {},
     "output_type": "execute_result"
    }
   ],
   "source": [
    "pocet[\"e\"]"
   ]
  },
  {
   "cell_type": "markdown",
   "metadata": {},
   "source": [
    "S použitím `defaultdict` se již nebudeme muset ohlížet na to, zda klíč ve slovníku existuje či nikoli. Při vytváření `defaultdict` mu jako parametr zadáme funkci, která se má zavolat v případě, že se pokusíme přistoupit k hodnotě neexistujícího klíče. Taková funkce může jednoduše vrátit nějakou výchozí hodnotu, nebo obsahovat i složitější logiku:"
   ]
  },
  {
   "cell_type": "code",
   "execution_count": 12,
   "metadata": {},
   "outputs": [
    {
     "data": {
      "text/plain": [
       "defaultdict(<function __main__.vychozi_hodnota>,\n",
       "            {' ': 1,\n",
       "             'a': 2,\n",
       "             'c': 1,\n",
       "             'd': 2,\n",
       "             'e': 1,\n",
       "             'h': 1,\n",
       "             'n': 2,\n",
       "             'o': 1,\n",
       "             'p': 1,\n",
       "             't': 1,\n",
       "             'v': 1,\n",
       "             'y': 1})"
      ]
     },
     "execution_count": 12,
     "metadata": {},
     "output_type": "execute_result"
    }
   ],
   "source": [
    "def vychozi_hodnota():\n",
    "    return 0\n",
    "\n",
    "pocet = defaultdict(vychozi_hodnota)\n",
    "\n",
    "for znak in text.lower():\n",
    "    pocet[znak] += 1\n",
    "\n",
    "pocet"
   ]
  },
  {
   "cell_type": "markdown",
   "metadata": {},
   "source": [
    "Když se zeptáme na neexistující klíč, dostaneme výchozí hodnotu:"
   ]
  },
  {
   "cell_type": "code",
   "execution_count": 13,
   "metadata": {},
   "outputs": [
    {
     "data": {
      "text/plain": [
       "0"
      ]
     },
     "execution_count": 13,
     "metadata": {},
     "output_type": "execute_result"
    }
   ],
   "source": [
    "pocet[\"w\"]"
   ]
  },
  {
   "cell_type": "markdown",
   "metadata": {},
   "source": [
    "Takto jednoduché a jednoúčelové funkce se dají zapsat i na jeden řádek a klidně přímo do argumentu vytvářeného slovníku. Takovým funkcím se říká anonymní a podíváme se na ně podrobněji v sedmé lekci:"
   ]
  },
  {
   "cell_type": "code",
   "execution_count": 14,
   "metadata": {},
   "outputs": [
    {
     "data": {
      "text/plain": [
       "defaultdict(<function __main__.<lambda>>,\n",
       "            {' ': 1,\n",
       "             'a': 2,\n",
       "             'c': 1,\n",
       "             'd': 2,\n",
       "             'e': 1,\n",
       "             'h': 1,\n",
       "             'n': 2,\n",
       "             'o': 1,\n",
       "             'p': 1,\n",
       "             't': 1,\n",
       "             'v': 1,\n",
       "             'y': 1})"
      ]
     },
     "execution_count": 14,
     "metadata": {},
     "output_type": "execute_result"
    }
   ],
   "source": [
    "pocet = defaultdict(lambda: 0)\n",
    "\n",
    "for znak in text.lower():\n",
    "    pocet[znak] += 1\n",
    "\n",
    "pocet"
   ]
  },
  {
   "cell_type": "markdown",
   "metadata": {},
   "source": [
    "V tomto konkrétním příkladu bychom mohli místo vlastní funkce použít třídu `int`, která, je-li zavolána bez argumentů, také vrací nulu:"
   ]
  },
  {
   "cell_type": "code",
   "execution_count": 15,
   "metadata": {},
   "outputs": [
    {
     "data": {
      "text/plain": [
       "defaultdict(int,\n",
       "            {' ': 1,\n",
       "             'a': 2,\n",
       "             'c': 1,\n",
       "             'd': 2,\n",
       "             'e': 1,\n",
       "             'h': 1,\n",
       "             'n': 2,\n",
       "             'o': 1,\n",
       "             'p': 1,\n",
       "             't': 1,\n",
       "             'v': 1,\n",
       "             'y': 1})"
      ]
     },
     "execution_count": 15,
     "metadata": {},
     "output_type": "execute_result"
    }
   ],
   "source": [
    "pocet = defaultdict(int)\n",
    "\n",
    "for znak in text.lower():\n",
    "    pocet[znak] += 1\n",
    "\n",
    "pocet"
   ]
  },
  {
   "cell_type": "markdown",
   "metadata": {},
   "source": [
    "Výchozí hodnota nemusí být jen číslo. Co když budeme chtít místo počtu výskytů znaku znát všechny indexy na nichž se v textu vyskytuje? Jednoduše v našem příkladu použijeme prázný list jako výchozí hodnotu. Do takto připravených prázdných seznamů pak už můžeme bez obav přímo vkládat hodnoty:"
   ]
  },
  {
   "cell_type": "code",
   "execution_count": 16,
   "metadata": {},
   "outputs": [
    {
     "data": {
      "text/plain": [
       "defaultdict(list,\n",
       "            {' ': [8],\n",
       "             'a': [0, 3],\n",
       "             'c': [5],\n",
       "             'd': [1, 7],\n",
       "             'e': [6],\n",
       "             'h': [12],\n",
       "             'n': [4, 14],\n",
       "             'o': [13],\n",
       "             'p': [9],\n",
       "             't': [11],\n",
       "             'v': [2],\n",
       "             'y': [10]})"
      ]
     },
     "execution_count": 16,
     "metadata": {},
     "output_type": "execute_result"
    }
   ],
   "source": [
    "pocet = defaultdict(list)\n",
    "\n",
    "for index, znak in enumerate(text.lower()):\n",
    "    pocet[znak].append(index)\n",
    "\n",
    "pocet"
   ]
  },
  {
   "cell_type": "markdown",
   "metadata": {},
   "source": [
    "## Counter"
   ]
  },
  {
   "cell_type": "markdown",
   "metadata": {},
   "source": [
    "U podobného příkladu ještě zůstaneme a podíváme se na `Counter`, což je další datová struktura postavená nad slovníkem. `Counter` je slovník, který umí automaticky spočítat počty výskytů prvků v zadané sekvenci a uložit je do běžného slovníku."
   ]
  },
  {
   "cell_type": "code",
   "execution_count": 17,
   "metadata": {},
   "outputs": [],
   "source": [
    "from collections import Counter"
   ]
  },
  {
   "cell_type": "code",
   "execution_count": 18,
   "metadata": {},
   "outputs": [
    {
     "data": {
      "text/plain": [
       "Counter({'fazole': 1, 'párek': 3, 'rohlík': 4, 'vejce': 4})"
      ]
     },
     "execution_count": 18,
     "metadata": {},
     "output_type": "execute_result"
    }
   ],
   "source": [
    "seznam = [\"vejce\", \"vejce\", \"vejce\", \"vejce\", \"rohlík\", \"rohlík\", \"rohlík\", \"rohlík\", \"fazole\", \"párek\", \"párek\", \"párek\"]\n",
    "counter = Counter(seznam)\n",
    "counter"
   ]
  },
  {
   "cell_type": "markdown",
   "metadata": {},
   "source": [
    "Counter lze také vytvořit zadáním jednotlivých prvků a jejich počtu:"
   ]
  },
  {
   "cell_type": "code",
   "execution_count": 19,
   "metadata": {},
   "outputs": [],
   "source": [
    "counter1 = Counter(a=4, b=2, c=0, d=-2)\n",
    "counter2 = Counter(a=1, b=2, c=0, d=-2)"
   ]
  },
  {
   "cell_type": "markdown",
   "metadata": {},
   "source": [
    "Metoda `elements` nám pak umožňuje získat všechny prvky v originálním počtu:"
   ]
  },
  {
   "cell_type": "code",
   "execution_count": 20,
   "metadata": {},
   "outputs": [
    {
     "data": {
      "text/plain": [
       "['a', 'a', 'a', 'a', 'b', 'b']"
      ]
     },
     "execution_count": 20,
     "metadata": {},
     "output_type": "execute_result"
    }
   ],
   "source": [
    "list(counter1.elements())"
   ]
  },
  {
   "cell_type": "markdown",
   "metadata": {},
   "source": [
    "Jednotlivé čítače lze od sebe odečíst:"
   ]
  },
  {
   "cell_type": "code",
   "execution_count": 21,
   "metadata": {},
   "outputs": [
    {
     "data": {
      "text/plain": [
       "Counter({'a': 3, 'b': 0, 'c': 0, 'd': 0})"
      ]
     },
     "execution_count": 21,
     "metadata": {},
     "output_type": "execute_result"
    }
   ],
   "source": [
    "counter1.subtract(counter2)\n",
    "counter1"
   ]
  },
  {
   "cell_type": "markdown",
   "metadata": {},
   "source": [
    "Také jsme jednoduše schopni zjistit, které prvky jsou v čítači nejpočetnější:"
   ]
  },
  {
   "cell_type": "code",
   "execution_count": 22,
   "metadata": {},
   "outputs": [
    {
     "data": {
      "text/plain": [
       "[('b', 2)]"
      ]
     },
     "execution_count": 22,
     "metadata": {},
     "output_type": "execute_result"
    }
   ],
   "source": [
    "counter2.most_common(1)"
   ]
  },
  {
   "cell_type": "code",
   "execution_count": 23,
   "metadata": {},
   "outputs": [
    {
     "data": {
      "text/plain": [
       "[('b', 2), ('a', 1)]"
      ]
     },
     "execution_count": 23,
     "metadata": {},
     "output_type": "execute_result"
    }
   ],
   "source": [
    "counter2.most_common(2)"
   ]
  },
  {
   "cell_type": "markdown",
   "metadata": {},
   "source": [
    "## namedtuple"
   ]
  },
  {
   "cell_type": "markdown",
   "metadata": {},
   "source": [
    "Dost bylo slovníků. Pojďme se podívat na speciální ntici, k jejímž prvkům lze přistupovat pomocí jmen stejně jako k atributům u tříd.\n",
    "\n",
    "Nejprve si vytvoříme něco na způsob vlastního datového typu, který bude mít jméno a také seznam pojmenovaných atributů:"
   ]
  },
  {
   "cell_type": "code",
   "execution_count": 24,
   "metadata": {},
   "outputs": [],
   "source": [
    "from collections import namedtuple\n",
    "\n",
    "Osoba = namedtuple(\"Osoba\", [\"jmeno\", \"prijmeni\", \"vek\"])"
   ]
  },
  {
   "cell_type": "markdown",
   "metadata": {},
   "source": [
    "A nyní už můžeme vytvořit konkrétní osobu. Jednotlivé atributy můžeme zadat jako pojmenované argumenty, poziční argumenty a nebo kombinaci obojího:"
   ]
  },
  {
   "cell_type": "code",
   "execution_count": 25,
   "metadata": {},
   "outputs": [],
   "source": [
    "os = Osoba(\"Pepa\", \"Novák\", 33)\n",
    "os = Osoba(\"Pepa\", \"Novák\", vek=33)\n",
    "os = Osoba(jmeno=\"Pepa\", prijmeni=\"Novák\", vek=33)"
   ]
  },
  {
   "cell_type": "markdown",
   "metadata": {},
   "source": [
    "Výsledek bude vždy stejný:"
   ]
  },
  {
   "cell_type": "code",
   "execution_count": 26,
   "metadata": {},
   "outputs": [
    {
     "data": {
      "text/plain": [
       "Osoba(jmeno='Pepa', prijmeni='Novák', vek=33)"
      ]
     },
     "execution_count": 26,
     "metadata": {},
     "output_type": "execute_result"
    }
   ],
   "source": [
    "os"
   ]
  },
  {
   "cell_type": "markdown",
   "metadata": {},
   "source": [
    "K obsahu pojmenované ntice můžeme přistupovat jako k atributům u tříd pomocí tečkové notace:"
   ]
  },
  {
   "cell_type": "code",
   "execution_count": 27,
   "metadata": {},
   "outputs": [
    {
     "data": {
      "text/plain": [
       "'Pepa'"
      ]
     },
     "execution_count": 27,
     "metadata": {},
     "output_type": "execute_result"
    }
   ],
   "source": [
    "os.jmeno"
   ]
  },
  {
   "cell_type": "code",
   "execution_count": 28,
   "metadata": {},
   "outputs": [
    {
     "data": {
      "text/plain": [
       "33"
      ]
     },
     "execution_count": 28,
     "metadata": {},
     "output_type": "execute_result"
    }
   ],
   "source": [
    "os.vek"
   ]
  },
  {
   "cell_type": "markdown",
   "metadata": {},
   "source": [
    "Pořád se ovšem jedná o ntici, takže máme možnost iterovat skrze její obsah:"
   ]
  },
  {
   "cell_type": "code",
   "execution_count": 29,
   "metadata": {},
   "outputs": [
    {
     "name": "stdout",
     "output_type": "stream",
     "text": [
      "Pepa\n",
      "Novák\n",
      "33\n"
     ]
    }
   ],
   "source": [
    "for parametr in os:\n",
    "    print(parametr)"
   ]
  },
  {
   "cell_type": "markdown",
   "metadata": {},
   "source": [
    "Nebo ji rozbalit do proměnných:"
   ]
  },
  {
   "cell_type": "code",
   "execution_count": 30,
   "metadata": {},
   "outputs": [
    {
     "name": "stdout",
     "output_type": "stream",
     "text": [
      "Pepa Novák 33\n"
     ]
    }
   ],
   "source": [
    "jmeno, prijmeni, vek = os\n",
    "print(jmeno, prijmeni, vek)"
   ]
  },
  {
   "cell_type": "markdown",
   "metadata": {},
   "source": [
    "## deque"
   ]
  },
  {
   "cell_type": "markdown",
   "metadata": {},
   "source": [
    "Už jsme tady měli speciální případy slovníků a ntic. `deque` je poslední do party a jedná se o speciální seznam. Ke známým metodám `append`, `extend` a `pop` přidává jejich varianty `appendleft`, `extendleft` a `popleft`, které dělají totéž, ale na levé straně seznamu."
   ]
  },
  {
   "cell_type": "code",
   "execution_count": 31,
   "metadata": {},
   "outputs": [],
   "source": [
    "from collections import deque"
   ]
  },
  {
   "cell_type": "code",
   "execution_count": 32,
   "metadata": {},
   "outputs": [],
   "source": [
    "d = deque(\"cdefg\")"
   ]
  },
  {
   "cell_type": "code",
   "execution_count": 33,
   "metadata": {},
   "outputs": [
    {
     "data": {
      "text/plain": [
       "deque(['b', 'c', 'd', 'e', 'f', 'g'])"
      ]
     },
     "execution_count": 33,
     "metadata": {},
     "output_type": "execute_result"
    }
   ],
   "source": [
    "d.appendleft(\"b\")\n",
    "d"
   ]
  },
  {
   "cell_type": "code",
   "execution_count": 34,
   "metadata": {},
   "outputs": [
    {
     "data": {
      "text/plain": [
       "'b'"
      ]
     },
     "execution_count": 34,
     "metadata": {},
     "output_type": "execute_result"
    }
   ],
   "source": [
    "d.popleft()"
   ]
  },
  {
   "cell_type": "code",
   "execution_count": 35,
   "metadata": {},
   "outputs": [
    {
     "data": {
      "text/plain": [
       "deque(['a', 'b', 'c', 'd', 'e', 'f', 'g'])"
      ]
     },
     "execution_count": 35,
     "metadata": {},
     "output_type": "execute_result"
    }
   ],
   "source": [
    "d.extendleft([\"b\", \"a\"])\n",
    "d"
   ]
  },
  {
   "cell_type": "markdown",
   "metadata": {},
   "source": [
    "Možná nejzajímavjší vlastností je však možnost definovat maximální délku `deque`. Pokud je pak maximální délka překročena při vkládání nového prvku, je prvek z opačné strany `deque` smazán:"
   ]
  },
  {
   "cell_type": "code",
   "execution_count": 36,
   "metadata": {},
   "outputs": [
    {
     "data": {
      "text/plain": [
       "deque([1, 2, 3, 4])"
      ]
     },
     "execution_count": 36,
     "metadata": {},
     "output_type": "execute_result"
    }
   ],
   "source": [
    "d = deque([1, 2, 3, 4], maxlen=5)\n",
    "d"
   ]
  },
  {
   "cell_type": "code",
   "execution_count": 37,
   "metadata": {},
   "outputs": [
    {
     "data": {
      "text/plain": [
       "deque([1, 2, 3, 4, 5])"
      ]
     },
     "execution_count": 37,
     "metadata": {},
     "output_type": "execute_result"
    }
   ],
   "source": [
    "d.append(5)\n",
    "d"
   ]
  },
  {
   "cell_type": "code",
   "execution_count": 38,
   "metadata": {},
   "outputs": [
    {
     "data": {
      "text/plain": [
       "deque([2, 3, 4, 5, 6])"
      ]
     },
     "execution_count": 38,
     "metadata": {},
     "output_type": "execute_result"
    }
   ],
   "source": [
    "d.append(6)\n",
    "d"
   ]
  },
  {
   "cell_type": "code",
   "execution_count": 39,
   "metadata": {},
   "outputs": [
    {
     "data": {
      "text/plain": [
       "deque([0, 2, 3, 4, 5])"
      ]
     },
     "execution_count": 39,
     "metadata": {},
     "output_type": "execute_result"
    }
   ],
   "source": [
    "d.appendleft(0)\n",
    "d"
   ]
  },
  {
   "cell_type": "markdown",
   "metadata": {},
   "source": [
    "# Úkol"
   ]
  },
  {
   "cell_type": "markdown",
   "metadata": {},
   "source": [
    "Ke každé datové struktuře, kterou jsme si dnes představili, vymyslete (a případně i naimplementujte) příklad reálného použití. Fantazii se meze nekladou. Pokud by byla implementace příkladu použití příliš složitá, postačí slovní popis.\n",
    "\n",
    "Řešení a případné dotazy zasílejte na email frenzy.madness@gmail.com"
   ]
  }
 ],
 "metadata": {
  "kernelspec": {
   "display_name": "Python 3",
   "language": "python",
   "name": "python3"
  },
  "language_info": {
   "codemirror_mode": {
    "name": "ipython",
    "version": 3
   },
   "file_extension": ".py",
   "mimetype": "text/x-python",
   "name": "python",
   "nbconvert_exporter": "python",
   "pygments_lexer": "ipython3",
   "version": "3.6.5"
  }
 },
 "nbformat": 4,
 "nbformat_minor": 2
}
