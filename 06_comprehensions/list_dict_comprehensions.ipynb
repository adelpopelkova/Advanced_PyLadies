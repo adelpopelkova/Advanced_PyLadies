{
 "cells": [
  {
   "cell_type": "markdown",
   "metadata": {},
   "source": [
    "# List a dictionary comprehensions"
   ]
  },
  {
   "cell_type": "markdown",
   "metadata": {},
   "source": [
    "Nejen v matematice se často setkáme s podobnýmí zápisy pro definici množin s konkrétními vlastnostmi:"
   ]
  },
  {
   "cell_type": "markdown",
   "metadata": {},
   "source": [
    "S = {$x^2$ : x in {0 ... 9}}"
   ]
  },
  {
   "cell_type": "markdown",
   "metadata": {},
   "source": [
    "nebo"
   ]
  },
  {
   "cell_type": "markdown",
   "metadata": {},
   "source": [
    "M = {x | x in S and x even}"
   ]
  },
  {
   "cell_type": "markdown",
   "metadata": {},
   "source": [
    "Když bude chtít začínající programátor vytvořit seznam podle první definice, nejspíše napíše kód podobný tomuto:"
   ]
  },
  {
   "cell_type": "code",
   "execution_count": 1,
   "metadata": {},
   "outputs": [
    {
     "data": {
      "text/plain": [
       "[0, 1, 4, 9, 16, 25, 36, 49, 64, 81]"
      ]
     },
     "execution_count": 1,
     "metadata": {},
     "output_type": "execute_result"
    }
   ],
   "source": [
    "S = []\n",
    "\n",
    "for cislo in range(10):\n",
    "    S.append(cislo**2)\n",
    "\n",
    "S"
   ]
  },
  {
   "cell_type": "markdown",
   "metadata": {},
   "source": [
    "A podle druhé definice bude zápis ještě složitější o jednu podmínku:"
   ]
  },
  {
   "cell_type": "code",
   "execution_count": 2,
   "metadata": {},
   "outputs": [
    {
     "data": {
      "text/plain": [
       "[0, 4, 16, 36, 64]"
      ]
     },
     "execution_count": 2,
     "metadata": {},
     "output_type": "execute_result"
    }
   ],
   "source": [
    "M = []\n",
    "\n",
    "for cislo in S:\n",
    "    if cislo % 2 == 0:\n",
    "        M.append(cislo)\n",
    "\n",
    "M"
   ]
  },
  {
   "cell_type": "markdown",
   "metadata": {},
   "source": [
    "Abychom se mohli při zápisu takovýchto jednoúčelových cyklů přiblížit jednoduchosti matematickému zápisu, existují v Pythonu comprehensions. S pomocí `list` či `dict` comprehensions lze vytváření seznamů a slovníků přepsat z cyklů `for` do jednořádkového zápisu. Náš první příklad zapsaný pomocí `list` comprehension vypadá takto:"
   ]
  },
  {
   "cell_type": "code",
   "execution_count": 3,
   "metadata": {},
   "outputs": [
    {
     "data": {
      "text/plain": [
       "[0, 1, 4, 9, 16, 25, 36, 49, 64, 81]"
      ]
     },
     "execution_count": 3,
     "metadata": {},
     "output_type": "execute_result"
    }
   ],
   "source": [
    "S = [cislo ** 2 for cislo in range(10)]\n",
    "\n",
    "S"
   ]
  },
  {
   "cell_type": "markdown",
   "metadata": {},
   "source": [
    "Protože tímto zápisem vytváříme seznam, je celý uzavřen v, pro seznam typických, hranatých závorkách. Na prvním místě je nějaká operace (výraz), kterou můžeme s jednotlivými prvky provádět dle libosti a tato operace je následováná zápisem `for` cyklu, který nám jednotlivé prvky dává k dispozici. Zápis `for` cyklu není nijak omezen a můžeme v něm tedy použít vše, na co jsme zvyklí. Comprehensions navíc umí zpracovat i podmínky, které jednotlivé prvky profiltrují, takže náš druhý příklad vypadá na jednom řádku takto:"
   ]
  },
  {
   "cell_type": "code",
   "execution_count": 4,
   "metadata": {},
   "outputs": [
    {
     "data": {
      "text/plain": [
       "[0, 4, 16, 36, 64]"
      ]
     },
     "execution_count": 4,
     "metadata": {},
     "output_type": "execute_result"
    }
   ],
   "source": [
    "M = [cislo for cislo in S if cislo % 2 == 0]\n",
    "\n",
    "M"
   ]
  },
  {
   "cell_type": "markdown",
   "metadata": {},
   "source": [
    "Méně čitelná, ale stále použitelná syntaxe list comprehensions nám umožní napsat na jeden řádek i zanořené `for` cykly jednoduše tak, že do sebe zanoříme vícero `list` comprehensions. Například pro generování herního pole pro piškvorky:"
   ]
  },
  {
   "cell_type": "code",
   "execution_count": 5,
   "metadata": {},
   "outputs": [
    {
     "data": {
      "text/plain": [
       "[['-', '-', '-', '-', '-', '-', '-', '-', '-', '-'],\n",
       " ['-', '-', '-', '-', '-', '-', '-', '-', '-', '-'],\n",
       " ['-', '-', '-', '-', '-', '-', '-', '-', '-', '-'],\n",
       " ['-', '-', '-', '-', '-', '-', '-', '-', '-', '-'],\n",
       " ['-', '-', '-', '-', '-', '-', '-', '-', '-', '-'],\n",
       " ['-', '-', '-', '-', '-', '-', '-', '-', '-', '-'],\n",
       " ['-', '-', '-', '-', '-', '-', '-', '-', '-', '-'],\n",
       " ['-', '-', '-', '-', '-', '-', '-', '-', '-', '-'],\n",
       " ['-', '-', '-', '-', '-', '-', '-', '-', '-', '-'],\n",
       " ['-', '-', '-', '-', '-', '-', '-', '-', '-', '-']]"
      ]
     },
     "execution_count": 5,
     "metadata": {},
     "output_type": "execute_result"
    }
   ],
   "source": [
    "pole = [[\"-\" for x in range(10)] for y in range(10)]\n",
    "\n",
    "pole"
   ]
  },
  {
   "cell_type": "markdown",
   "metadata": {},
   "source": [
    "Postupným přidáváním dalších a dalších podmínek a cyklů bychom se dostali k celkem nečitelnému kódu. V takovém případě je třeba se zamyslet, zda by nebylo lepší použít klasické cykly se zanořeným a přehlednějším zápisem. Pokud se rozhodneme zůstat u `list` comprehensions, Python nám alespoň nabízí pomoc s přehledností kódu v podobě možnosti rozdělit zápis na více řádků."
   ]
  },
  {
   "cell_type": "code",
   "execution_count": 6,
   "metadata": {},
   "outputs": [
    {
     "data": {
      "text/plain": [
       "[0, 4, 16, 36, 64]"
      ]
     },
     "execution_count": 6,
     "metadata": {},
     "output_type": "execute_result"
    }
   ],
   "source": [
    "M = [\n",
    "  cislo\n",
    "  for cislo in S\n",
    "  if cislo % 2 == 0\n",
    "]\n",
    "\n",
    "M"
   ]
  },
  {
   "cell_type": "markdown",
   "metadata": {},
   "source": [
    "S tímto postupem jsme si ovšem moc místa v kódu neušetřili a tak je třeba se nad tím zamyslet u každého případu zvlášť a vybrat tu nejlepší variantu."
   ]
  },
  {
   "cell_type": "markdown",
   "metadata": {},
   "source": [
    "## Dictionary comprehensions"
   ]
  },
  {
   "cell_type": "markdown",
   "metadata": {},
   "source": [
    "Situace u dictionary comprehensions je naprosto stejná jako u list comprehensions. Rozdíl je jen v závorkách, které pro slovník použijeme složené, a také v obsahu, protože slovník obsahuje dvojice klíč:hodnota a tak je i v tomto tvaru musíme připřavit.\n",
    "\n",
    "Které znaký mají sudé ASCII číselné vyjádření?"
   ]
  },
  {
   "cell_type": "code",
   "execution_count": 7,
   "metadata": {},
   "outputs": [
    {
     "data": {
      "text/plain": [
       "{'b': 98,\n",
       " 'd': 100,\n",
       " 'f': 102,\n",
       " 'h': 104,\n",
       " 'j': 106,\n",
       " 'l': 108,\n",
       " 'n': 110,\n",
       " 'p': 112,\n",
       " 'r': 114,\n",
       " 't': 116,\n",
       " 'v': 118,\n",
       " 'x': 120,\n",
       " 'z': 122}"
      ]
     },
     "execution_count": 7,
     "metadata": {},
     "output_type": "execute_result"
    }
   ],
   "source": [
    "from string import ascii_lowercase\n",
    "\n",
    "slovnik_ascii = {znak:ord(znak) for znak in ascii_lowercase if ord(znak) % 2 == 0}\n",
    "\n",
    "slovnik_ascii"
   ]
  }
 ],
 "metadata": {
  "kernelspec": {
   "display_name": "Python 3",
   "language": "python",
   "name": "python3"
  },
  "language_info": {
   "codemirror_mode": {
    "name": "ipython",
    "version": 3
   },
   "file_extension": ".py",
   "mimetype": "text/x-python",
   "name": "python",
   "nbconvert_exporter": "python",
   "pygments_lexer": "ipython3",
   "version": "3.6.5"
  }
 },
 "nbformat": 4,
 "nbformat_minor": 2
}
